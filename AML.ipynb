{
  "nbformat": 4,
  "nbformat_minor": 0,
  "metadata": {
    "colab": {
      "name": "AML.ipynb",
      "provenance": [],
      "collapsed_sections": [
        "qpujdrmr7L18",
        "LHdMi28lvBDo",
        "NmfAianfQ5GH",
        "nVfRBs9wWVA3",
        "GH3FFhyrLuvR",
        "a8t_lb67eR3D",
        "6578PniRYoN7",
        "A2a7e8TQUncR"
      ],
      "include_colab_link": true
    },
    "kernelspec": {
      "name": "python3",
      "display_name": "Python 3"
    },
    "accelerator": "GPU"
  },
  "cells": [
    {
      "cell_type": "markdown",
      "metadata": {
        "id": "view-in-github",
        "colab_type": "text"
      },
      "source": [
        "<a href=\"https://colab.research.google.com/github/ariansajina/bachelor-thesis/blob/master/AML.ipynb\" target=\"_parent\"><img src=\"https://colab.research.google.com/assets/colab-badge.svg\" alt=\"Open In Colab\"/></a>"
      ]
    },
    {
      "cell_type": "markdown",
      "metadata": {
        "id": "qpujdrmr7L18"
      },
      "source": [
        "### Imports and listed versions"
      ]
    },
    {
      "cell_type": "code",
      "metadata": {
        "id": "BUL4Bxszda53"
      },
      "source": [
        "import tensorflow as tf\n",
        "import pandas as pd\n",
        "import numpy as np\n",
        "import matplotlib\n",
        "import matplotlib.pyplot as plt"
      ],
      "execution_count": 1,
      "outputs": []
    },
    {
      "cell_type": "code",
      "metadata": {
        "id": "OMiYz-CX6k_A",
        "colab": {
          "base_uri": "https://localhost:8080/"
        },
        "outputId": "dc75667a-7348-4ccd-b421-0eb0c99e3f2f"
      },
      "source": [
        "print(f'tensorflow=={tf.__version__}')\n",
        "print(f'pandas=={pd.__version__}')\n",
        "print(f'numpy=={np.__version__}')\n",
        "print(f'matplotlib=={matplotlib.__version__}')"
      ],
      "execution_count": null,
      "outputs": [
        {
          "output_type": "stream",
          "text": [
            "tensorflow==2.3.0\n",
            "pandas==1.1.4\n",
            "numpy==1.18.5\n",
            "matplotlib==3.2.2\n"
          ],
          "name": "stdout"
        }
      ]
    },
    {
      "cell_type": "markdown",
      "metadata": {
        "id": "2l2BkKSKHz-h"
      },
      "source": [
        "### Data sources"
      ]
    },
    {
      "cell_type": "markdown",
      "metadata": {
        "id": "EAcnNZ6pQTLf"
      },
      "source": [
        "* S&P500 from 2008-01-02 to 2018-11-27 (as used in the paper): https://finance.yahoo.com/quote/%5EGSPC/history?period1=1199232000&period2=1543276800&interval=1d&filter=history&frequency=1d&includeAdjustedClose=true\n",
        "\n",
        "* Wilshire 5000: https://finance.yahoo.com/quote/%5EW5000/history?period1=1573911138&period2=1605533538&interval=1d&filter=history&frequency=1d&includeAdjustedClose=true"
      ]
    },
    {
      "cell_type": "code",
      "metadata": {
        "id": "EMZ1Bjvrf13g"
      },
      "source": [
        "url_sp500 = 'https://raw.githubusercontent.com/alexander34ro/AML-Replicating-Novel-Deep-Learning-with-CNN-and-Bi-Directional-LSTM-for-Improved-Index-Prediction/main/S%26P500.csv'\n",
        "url_wilshire = 'https://raw.githubusercontent.com/alexander34ro/AML-Replicating-Novel-Deep-Learning-with-CNN-and-Bi-Directional-LSTM-for-Improved-Index-Prediction/main/%5EW5000.csv'"
      ],
      "execution_count": 5,
      "outputs": []
    },
    {
      "cell_type": "code",
      "metadata": {
        "id": "pb11__rk3sAx"
      },
      "source": [
        "df = pd.read_csv(url_sp500, index_col='Date')"
      ],
      "execution_count": 6,
      "outputs": []
    },
    {
      "cell_type": "code",
      "metadata": {
        "id": "_Ac4d4qX3xG_"
      },
      "source": [
        "#df = pd.read_csv(url_wilshire, index_col='Date')"
      ],
      "execution_count": null,
      "outputs": []
    },
    {
      "cell_type": "markdown",
      "metadata": {
        "id": "LHdMi28lvBDo"
      },
      "source": [
        "## S&P500 data description"
      ]
    },
    {
      "cell_type": "code",
      "metadata": {
        "id": "MkKTnzAqN-l0",
        "colab": {
          "base_uri": "https://localhost:8080/"
        },
        "outputId": "7a6ca67e-b875-4144-8636-2091ca95c9f4"
      },
      "source": [
        "print(f'Number of rows: \\t{df.shape[0]}')\n",
        "print(f'Number of columns: \\t{df.shape[1]}')\n",
        "print(f'Columns: \\t\\t{\", \".join(list(df.columns))}')"
      ],
      "execution_count": null,
      "outputs": [
        {
          "output_type": "stream",
          "text": [
            "Number of rows: \t2746\n",
            "Number of columns: \t6\n",
            "Columns: \t\tOpen, High, Low, Close, Adj Close, Volume\n"
          ],
          "name": "stdout"
        }
      ]
    },
    {
      "cell_type": "code",
      "metadata": {
        "id": "Gkrk2Nlqkwia",
        "colab": {
          "base_uri": "https://localhost:8080/"
        },
        "outputId": "87462207-8e97-4c2d-b184-ef5195415c5e"
      },
      "source": [
        "# first 5 rows\n",
        "print(df.head(5))\n",
        "# last 5 rows\n",
        "print(df.tail(5))"
      ],
      "execution_count": null,
      "outputs": [
        {
          "output_type": "stream",
          "text": [
            "                   Open         High  ...    Adj Close      Volume\n",
            "Date                                  ...                         \n",
            "2008-01-02  1467.969971  1471.770020  ...  1447.160034  3452650000\n",
            "2008-01-03  1447.550049  1456.800049  ...  1447.160034  3429500000\n",
            "2008-01-04  1444.010010  1444.010010  ...  1411.630005  4166000000\n",
            "2008-01-07  1414.069946  1423.869995  ...  1416.180054  4221260000\n",
            "2008-01-08  1415.709961  1430.280029  ...  1390.189941  4705390000\n",
            "\n",
            "[5 rows x 6 columns]\n",
            "                   Open         High  ...    Adj Close      Volume\n",
            "Date                                  ...                         \n",
            "2018-11-19  2730.739990  2733.159912  ...  2690.729980  3772900000\n",
            "2018-11-20  2654.600098  2669.439941  ...  2641.889893  4357900000\n",
            "2018-11-21  2657.739990  2670.729980  ...  2649.929932  3233550000\n",
            "2018-11-23  2633.360107  2647.550049  ...  2632.560059  1651650000\n",
            "2018-11-26  2649.969971  2674.350098  ...  2673.449951  3443950000\n",
            "\n",
            "[5 rows x 6 columns]\n"
          ],
          "name": "stdout"
        }
      ]
    },
    {
      "cell_type": "code",
      "metadata": {
        "id": "zIow9pXEwtB4",
        "colab": {
          "base_uri": "https://localhost:8080/"
        },
        "outputId": "969e36b6-18d0-4aa8-af36-790bc49e4953"
      },
      "source": [
        "# summary statistics\n",
        "df.describe()"
      ],
      "execution_count": null,
      "outputs": [
        {
          "output_type": "execute_result",
          "data": {
            "text/html": [
              "<div>\n",
              "<style scoped>\n",
              "    .dataframe tbody tr th:only-of-type {\n",
              "        vertical-align: middle;\n",
              "    }\n",
              "\n",
              "    .dataframe tbody tr th {\n",
              "        vertical-align: top;\n",
              "    }\n",
              "\n",
              "    .dataframe thead th {\n",
              "        text-align: right;\n",
              "    }\n",
              "</style>\n",
              "<table border=\"1\" class=\"dataframe\">\n",
              "  <thead>\n",
              "    <tr style=\"text-align: right;\">\n",
              "      <th></th>\n",
              "      <th>Open</th>\n",
              "      <th>High</th>\n",
              "      <th>Low</th>\n",
              "      <th>Close</th>\n",
              "      <th>Adj Close</th>\n",
              "      <th>Volume</th>\n",
              "    </tr>\n",
              "  </thead>\n",
              "  <tbody>\n",
              "    <tr>\n",
              "      <th>count</th>\n",
              "      <td>2746.000000</td>\n",
              "      <td>2746.000000</td>\n",
              "      <td>2746.000000</td>\n",
              "      <td>2746.000000</td>\n",
              "      <td>2746.000000</td>\n",
              "      <td>2.746000e+03</td>\n",
              "    </tr>\n",
              "    <tr>\n",
              "      <th>mean</th>\n",
              "      <td>1708.300461</td>\n",
              "      <td>1717.542164</td>\n",
              "      <td>1698.229986</td>\n",
              "      <td>1708.533732</td>\n",
              "      <td>1708.533732</td>\n",
              "      <td>4.018196e+09</td>\n",
              "    </tr>\n",
              "    <tr>\n",
              "      <th>std</th>\n",
              "      <td>560.929267</td>\n",
              "      <td>560.822181</td>\n",
              "      <td>560.947662</td>\n",
              "      <td>560.846932</td>\n",
              "      <td>560.846932</td>\n",
              "      <td>1.142968e+09</td>\n",
              "    </tr>\n",
              "    <tr>\n",
              "      <th>min</th>\n",
              "      <td>679.280029</td>\n",
              "      <td>695.270020</td>\n",
              "      <td>666.789978</td>\n",
              "      <td>676.530029</td>\n",
              "      <td>676.530029</td>\n",
              "      <td>1.025000e+09</td>\n",
              "    </tr>\n",
              "    <tr>\n",
              "      <th>25%</th>\n",
              "      <td>1257.654999</td>\n",
              "      <td>1264.467499</td>\n",
              "      <td>1247.747467</td>\n",
              "      <td>1257.772522</td>\n",
              "      <td>1257.772522</td>\n",
              "      <td>3.314200e+09</td>\n",
              "    </tr>\n",
              "    <tr>\n",
              "      <th>50%</th>\n",
              "      <td>1635.734985</td>\n",
              "      <td>1646.455017</td>\n",
              "      <td>1628.980041</td>\n",
              "      <td>1637.265015</td>\n",
              "      <td>1637.265015</td>\n",
              "      <td>3.745685e+09</td>\n",
              "    </tr>\n",
              "    <tr>\n",
              "      <th>75%</th>\n",
              "      <td>2098.585083</td>\n",
              "      <td>2104.265015</td>\n",
              "      <td>2088.189941</td>\n",
              "      <td>2098.777587</td>\n",
              "      <td>2098.777587</td>\n",
              "      <td>4.456238e+09</td>\n",
              "    </tr>\n",
              "    <tr>\n",
              "      <th>max</th>\n",
              "      <td>2936.760010</td>\n",
              "      <td>2940.909912</td>\n",
              "      <td>2927.110107</td>\n",
              "      <td>2930.750000</td>\n",
              "      <td>2930.750000</td>\n",
              "      <td>1.145623e+10</td>\n",
              "    </tr>\n",
              "  </tbody>\n",
              "</table>\n",
              "</div>"
            ],
            "text/plain": [
              "              Open         High  ...    Adj Close        Volume\n",
              "count  2746.000000  2746.000000  ...  2746.000000  2.746000e+03\n",
              "mean   1708.300461  1717.542164  ...  1708.533732  4.018196e+09\n",
              "std     560.929267   560.822181  ...   560.846932  1.142968e+09\n",
              "min     679.280029   695.270020  ...   676.530029  1.025000e+09\n",
              "25%    1257.654999  1264.467499  ...  1257.772522  3.314200e+09\n",
              "50%    1635.734985  1646.455017  ...  1637.265015  3.745685e+09\n",
              "75%    2098.585083  2104.265015  ...  2098.777587  4.456238e+09\n",
              "max    2936.760010  2940.909912  ...  2930.750000  1.145623e+10\n",
              "\n",
              "[8 rows x 6 columns]"
            ]
          },
          "metadata": {
            "tags": []
          },
          "execution_count": 1058
        }
      ]
    },
    {
      "cell_type": "code",
      "metadata": {
        "id": "7aGZQ2980hhm",
        "colab": {
          "base_uri": "https://localhost:8080/"
        },
        "outputId": "beb9721a-3a06-4be7-d6b8-d9ecfc999e84"
      },
      "source": [
        "# check if any of the columns has missing values\n",
        "df.isnull().any()"
      ],
      "execution_count": null,
      "outputs": [
        {
          "output_type": "execute_result",
          "data": {
            "text/plain": [
              "Open         False\n",
              "High         False\n",
              "Low          False\n",
              "Close        False\n",
              "Adj Close    False\n",
              "Volume       False\n",
              "dtype: bool"
            ]
          },
          "metadata": {
            "tags": []
          },
          "execution_count": 1059
        }
      ]
    },
    {
      "cell_type": "code",
      "metadata": {
        "id": "mPePR4r7zmdv",
        "colab": {
          "base_uri": "https://localhost:8080/"
        },
        "outputId": "646ada6b-061a-4004-d1fd-2d767469133b"
      },
      "source": [
        "# adapted from: https://matplotlib.org/3.1.0/gallery/text_labels_and_annotations/date_index_formatter.html\n",
        "\n",
        "import matplotlib.ticker as ticker\n",
        "\n",
        "fig, ax = plt.subplots(figsize=(10,7))\n",
        "\n",
        "N = df.index.size\n",
        "ind = np.arange(N)  # the evenly spaced plot indices\n",
        "\n",
        "ax.plot(ind, df['Close'])\n",
        "\n",
        "def format_date(x, pos=None):\n",
        "    thisind = np.clip(int(x + 0.5), 0, N - 1)\n",
        "    return df.index[thisind]\n",
        "\n",
        "ax.xaxis.set_major_formatter(ticker.FuncFormatter(format_date))\n",
        "fig.autofmt_xdate()\n",
        "\n",
        "ax.set_ylabel('Close price')\n",
        "ax.set_xlabel('Date (week days)')\n",
        "ax.set_title('S&P500 02/01/2008-27/11/2018')\n",
        "plt.show()"
      ],
      "execution_count": null,
      "outputs": [
        {
          "output_type": "display_data",
          "data": {
            "image/png": "[encoded data removed]",
            "text/plain": [
              "<Figure size 720x504 with 1 Axes>"
            ]
          },
          "metadata": {
            "tags": [],
            "needs_background": "light"
          }
        }
      ]
    },
    {
      "cell_type": "markdown",
      "metadata": {
        "id": "NmfAianfQ5GH"
      },
      "source": [
        "## Wilshire 5000 data description"
      ]
    },
    {
      "cell_type": "code",
      "metadata": {
        "id": "8N6B3KI8Q5GQ"
      },
      "source": [
        "df = pd.read_csv(url_wilshire, index_col='Date')"
      ],
      "execution_count": null,
      "outputs": []
    },
    {
      "cell_type": "code",
      "metadata": {
        "id": "3Z_-A-tLQ5Gs",
        "colab": {
          "base_uri": "https://localhost:8080/"
        },
        "outputId": "c7d3e0b8-40d3-4c87-c396-383cbdc45659"
      },
      "source": [
        "print(f'Number of rows: \\t{df.shape[0]}')\n",
        "print(f'Number of columns: \\t{df.shape[1]}')\n",
        "print(f'Columns: \\t\\t{\", \".join(list(df.columns))}')"
      ],
      "execution_count": null,
      "outputs": [
        {
          "output_type": "stream",
          "text": [
            "Number of rows: \t2746\n",
            "Number of columns: \t6\n",
            "Columns: \t\tOpen, High, Low, Close, Adj Close, Volume\n"
          ],
          "name": "stdout"
        }
      ]
    },
    {
      "cell_type": "code",
      "metadata": {
        "id": "fBNhiZ8oQ5HD",
        "colab": {
          "base_uri": "https://localhost:8080/"
        },
        "outputId": "78dc2ad6-3a68-419a-8de5-74f786511bab"
      },
      "source": [
        "# first 5 rows\n",
        "print(df.head(5))\n",
        "# last 5 rows\n",
        "print(df.tail(5))"
      ],
      "execution_count": null,
      "outputs": [
        {
          "output_type": "stream",
          "text": [
            "                    Open          High  ...     Adj Close  Volume\n",
            "Date                                    ...                      \n",
            "2008-01-02  14613.570313  14613.570313  ...  14613.570313     0.0\n",
            "2008-01-03  14587.919922  14587.919922  ...  14587.919922     0.0\n",
            "2008-01-04  14210.849609  14210.849609  ...  14210.849609     0.0\n",
            "2008-01-07  14229.799805  14229.799805  ...  14229.799805     0.0\n",
            "2008-01-08  13963.200195  13963.200195  ...  13963.200195     0.0\n",
            "\n",
            "[5 rows x 6 columns]\n",
            "                    Open          High  ...     Adj Close  Volume\n",
            "Date                                    ...                      \n",
            "2018-11-19  28142.630859  28173.730469  ...  27702.310547     0.0\n",
            "2018-11-20  27301.339844  27485.810547  ...  27202.929688     0.0\n",
            "2018-11-21  27202.929688  27547.789063  ...  27345.480469     0.0\n",
            "2018-11-23  27266.160156  27353.349609  ...  27196.570313     0.0\n",
            "2018-11-26  27318.339844  27629.039063  ...  27618.789063     0.0\n",
            "\n",
            "[5 rows x 6 columns]\n"
          ],
          "name": "stdout"
        }
      ]
    },
    {
      "cell_type": "code",
      "metadata": {
        "id": "Ob1ulyo8Q5HS",
        "colab": {
          "base_uri": "https://localhost:8080/"
        },
        "outputId": "b483d6bd-92ea-45cf-fe14-9b5393c8d491"
      },
      "source": [
        "# summary statistics\n",
        "df.describe()"
      ],
      "execution_count": null,
      "outputs": [
        {
          "output_type": "execute_result",
          "data": {
            "text/html": [
              "<div>\n",
              "<style scoped>\n",
              "    .dataframe tbody tr th:only-of-type {\n",
              "        vertical-align: middle;\n",
              "    }\n",
              "\n",
              "    .dataframe tbody tr th {\n",
              "        vertical-align: top;\n",
              "    }\n",
              "\n",
              "    .dataframe thead th {\n",
              "        text-align: right;\n",
              "    }\n",
              "</style>\n",
              "<table border=\"1\" class=\"dataframe\">\n",
              "  <thead>\n",
              "    <tr style=\"text-align: right;\">\n",
              "      <th></th>\n",
              "      <th>Open</th>\n",
              "      <th>High</th>\n",
              "      <th>Low</th>\n",
              "      <th>Close</th>\n",
              "      <th>Adj Close</th>\n",
              "      <th>Volume</th>\n",
              "    </tr>\n",
              "  </thead>\n",
              "  <tbody>\n",
              "    <tr>\n",
              "      <th>count</th>\n",
              "      <td>2740.000000</td>\n",
              "      <td>2740.000000</td>\n",
              "      <td>2740.000000</td>\n",
              "      <td>2740.000000</td>\n",
              "      <td>2740.000000</td>\n",
              "      <td>2740.0</td>\n",
              "    </tr>\n",
              "    <tr>\n",
              "      <th>mean</th>\n",
              "      <td>17826.795558</td>\n",
              "      <td>17912.301265</td>\n",
              "      <td>17738.106917</td>\n",
              "      <td>17833.180675</td>\n",
              "      <td>17833.180675</td>\n",
              "      <td>0.0</td>\n",
              "    </tr>\n",
              "    <tr>\n",
              "      <th>std</th>\n",
              "      <td>5873.519599</td>\n",
              "      <td>5890.666621</td>\n",
              "      <td>5854.148448</td>\n",
              "      <td>5871.715705</td>\n",
              "      <td>5871.715705</td>\n",
              "      <td>0.0</td>\n",
              "    </tr>\n",
              "    <tr>\n",
              "      <th>min</th>\n",
              "      <td>6858.430176</td>\n",
              "      <td>6858.430176</td>\n",
              "      <td>6858.430176</td>\n",
              "      <td>6858.430176</td>\n",
              "      <td>6858.430176</td>\n",
              "      <td>0.0</td>\n",
              "    </tr>\n",
              "    <tr>\n",
              "      <th>25%</th>\n",
              "      <td>13062.697754</td>\n",
              "      <td>13107.312744</td>\n",
              "      <td>13026.557129</td>\n",
              "      <td>13069.782226</td>\n",
              "      <td>13069.782226</td>\n",
              "      <td>0.0</td>\n",
              "    </tr>\n",
              "    <tr>\n",
              "      <th>50%</th>\n",
              "      <td>17269.719726</td>\n",
              "      <td>17354.865235</td>\n",
              "      <td>17175.214844</td>\n",
              "      <td>17282.299804</td>\n",
              "      <td>17282.299804</td>\n",
              "      <td>0.0</td>\n",
              "    </tr>\n",
              "    <tr>\n",
              "      <th>75%</th>\n",
              "      <td>22029.310059</td>\n",
              "      <td>22143.919434</td>\n",
              "      <td>21916.495606</td>\n",
              "      <td>22046.445312</td>\n",
              "      <td>22046.445312</td>\n",
              "      <td>0.0</td>\n",
              "    </tr>\n",
              "    <tr>\n",
              "      <th>max</th>\n",
              "      <td>30518.599609</td>\n",
              "      <td>30560.539063</td>\n",
              "      <td>30401.960938</td>\n",
              "      <td>30462.289063</td>\n",
              "      <td>30462.289063</td>\n",
              "      <td>0.0</td>\n",
              "    </tr>\n",
              "  </tbody>\n",
              "</table>\n",
              "</div>"
            ],
            "text/plain": [
              "               Open          High  ...     Adj Close  Volume\n",
              "count   2740.000000   2740.000000  ...   2740.000000  2740.0\n",
              "mean   17826.795558  17912.301265  ...  17833.180675     0.0\n",
              "std     5873.519599   5890.666621  ...   5871.715705     0.0\n",
              "min     6858.430176   6858.430176  ...   6858.430176     0.0\n",
              "25%    13062.697754  13107.312744  ...  13069.782226     0.0\n",
              "50%    17269.719726  17354.865235  ...  17282.299804     0.0\n",
              "75%    22029.310059  22143.919434  ...  22046.445312     0.0\n",
              "max    30518.599609  30560.539063  ...  30462.289063     0.0\n",
              "\n",
              "[8 rows x 6 columns]"
            ]
          },
          "metadata": {
            "tags": []
          },
          "execution_count": 1064
        }
      ]
    },
    {
      "cell_type": "code",
      "metadata": {
        "id": "ZW01bWROQ5He",
        "colab": {
          "base_uri": "https://localhost:8080/"
        },
        "outputId": "5dcf6fe3-5cd4-455d-9d38-3bfdc1d29549"
      },
      "source": [
        "# check if any of the columns has missing values\n",
        "df.isnull().any()"
      ],
      "execution_count": null,
      "outputs": [
        {
          "output_type": "execute_result",
          "data": {
            "text/plain": [
              "Open         True\n",
              "High         True\n",
              "Low          True\n",
              "Close        True\n",
              "Adj Close    True\n",
              "Volume       True\n",
              "dtype: bool"
            ]
          },
          "metadata": {
            "tags": []
          },
          "execution_count": 1065
        }
      ]
    },
    {
      "cell_type": "code",
      "metadata": {
        "id": "RrZbT-CMR7Qz",
        "colab": {
          "base_uri": "https://localhost:8080/"
        },
        "outputId": "bdea1cd8-743c-47d2-b80e-f5f3fcc39428"
      },
      "source": [
        "# get dates for which close price is missing\n",
        "import datetime\n",
        "\n",
        "def is_weekday(datetime_str):\n",
        "  \"Assumes datetime_str has format year-month-day, e.g. 2000-05-28.\"\n",
        "  datetime_obj = datetime.datetime.strptime(datetime_str, '%Y-%m-%d')\n",
        "  return datetime_obj.weekday() < 5\n",
        "\n",
        "missing = df.index[df['Close'].isnull()]\n",
        "print(f'There are {missing.size} missing values for the close price.')\n",
        "print('The missing dates are:')\n",
        "for date in missing: print(f'{date} --- is week day: {is_weekday(date)}')"
      ],
      "execution_count": null,
      "outputs": [
        {
          "output_type": "stream",
          "text": [
            "There are 6 missing values for the close price.\n",
            "The missing dates are:\n",
            "2016-04-01 --- is week day: True\n",
            "2016-05-03 --- is week day: True\n",
            "2016-05-31 --- is week day: True\n",
            "2016-07-22 --- is week day: True\n",
            "2016-08-23 --- is week day: True\n",
            "2016-08-25 --- is week day: True\n"
          ],
          "name": "stdout"
        }
      ]
    },
    {
      "cell_type": "code",
      "metadata": {
        "id": "j9TLHqkyWLQM"
      },
      "source": [
        "# drop rows with missing values\n",
        "df = df.dropna()"
      ],
      "execution_count": null,
      "outputs": []
    },
    {
      "cell_type": "code",
      "metadata": {
        "id": "aw6s0kgsQ5Hs",
        "colab": {
          "base_uri": "https://localhost:8080/"
        },
        "outputId": "3f2c5fa5-9db2-4baf-df33-6805a47bc720"
      },
      "source": [
        "# adapted from: https://matplotlib.org/3.1.0/gallery/text_labels_and_annotations/date_index_formatter.html\n",
        "\n",
        "import matplotlib.ticker as ticker\n",
        "\n",
        "fig, ax = plt.subplots(figsize=(10,7))\n",
        "\n",
        "N = df.index.size\n",
        "ind = np.arange(N)  # the evenly spaced plot indices\n",
        "\n",
        "ax.plot(ind, df['Close'])\n",
        "\n",
        "def format_date(x, pos=None):\n",
        "    thisind = np.clip(int(x + 0.5), 0, N - 1)\n",
        "    return df.index[thisind]\n",
        "\n",
        "ax.xaxis.set_major_formatter(ticker.FuncFormatter(format_date))\n",
        "fig.autofmt_xdate()\n",
        "\n",
        "ax.set_ylabel('Close price')\n",
        "ax.set_xlabel('Date (week day)')\n",
        "plt.show()"
      ],
      "execution_count": null,
      "outputs": [
        {
          "output_type": "display_data",
          "data": {
            "image/png": "[encoded data removed]",
            "text/plain": [
              "<Figure size 720x504 with 1 Axes>"
            ]
          },
          "metadata": {
            "tags": [],
            "needs_background": "light"
          }
        }
      ]
    },
    {
      "cell_type": "markdown",
      "metadata": {
        "id": "nVfRBs9wWVA3"
      },
      "source": [
        "## S&P500 and  Wilshire 5000 joint plot"
      ]
    },
    {
      "cell_type": "code",
      "metadata": {
        "id": "4uEiGODoWgSN"
      },
      "source": [
        "df_sp500 = pd.read_csv(url_sp500, index_col='Date')\n",
        "df_wilshire = pd.read_csv(url_wilshire, index_col='Date')"
      ],
      "execution_count": null,
      "outputs": []
    },
    {
      "cell_type": "code",
      "metadata": {
        "id": "oqx9MTstWgDo"
      },
      "source": [
        "# drop missing rows for close price\n",
        "missing = df_wilshire.index[df_wilshire['Close'].isnull()]\n",
        "df_sp500.drop(index=missing, inplace=True)\n",
        "df_wilshire.drop(index=missing, inplace=True)"
      ],
      "execution_count": null,
      "outputs": []
    },
    {
      "cell_type": "code",
      "metadata": {
        "id": "FYd4fu2aXlsQ",
        "colab": {
          "base_uri": "https://localhost:8080/",
          "height": 448
        },
        "outputId": "cf7c6b7d-2868-4ac8-a586-afc9d5c549e8"
      },
      "source": [
        "# adapted from: https://matplotlib.org/3.1.0/gallery/text_labels_and_annotations/date_index_formatter.html\n",
        "\n",
        "import matplotlib.ticker as ticker\n",
        "\n",
        "fig, axes = plt.subplots(1, 2, figsize=(18,7))\n",
        "\n",
        "N = df_sp500.index.size\n",
        "ind = np.arange(N)  # the evenly spaced plot indices\n",
        "\n",
        "# absolute value\n",
        "axes[0].plot(ind, df_sp500['Close'], label='S&P500')\n",
        "axes[0].plot(ind, df_wilshire['Close'], label='Wilshire 5000')\n",
        "axes[0].set_title('Absolute value')\n",
        "axes[0].set_ylabel('Close price')\n",
        "axes[0].set_xlabel('Date (week day)')\n",
        "\n",
        "# relative change normalized\n",
        "def normalize(x):\n",
        "  return (x - x[0]) / x[0]\n",
        "axes[1].plot(ind, normalize(df_sp500['Close']), label='S&P500')\n",
        "axes[1].plot(ind, normalize(df_wilshire['Close']), label='Wilshire 5000')\n",
        "axes[1].set_title('Relative change normalized')\n",
        "axes[1].set_ylabel('Close price relative change')\n",
        "axes[1].set_xlabel('Date (week day)')\n",
        "\n",
        "\n",
        "def format_date(x, pos=None):\n",
        "    thisind = np.clip(int(x + 0.5), 0, N - 1)\n",
        "    return df.index[thisind]\n",
        "\n",
        "for ax in axes:\n",
        "  ax.xaxis.set_major_formatter(ticker.FuncFormatter(format_date))\n",
        "  ax.legend()\n",
        "\n",
        "fig.autofmt_xdate()\n",
        "plt.show()"
      ],
      "execution_count": null,
      "outputs": [
        {
          "output_type": "display_data",
          "data": {
            "image/png": "[encoded data removed]",
            "text/plain": [
              "<Figure size 1296x504 with 2 Axes>"
            ]
          },
          "metadata": {
            "tags": [],
            "needs_background": "light"
          }
        }
      ]
    },
    {
      "cell_type": "markdown",
      "metadata": {
        "id": "dFtgted2wslz"
      },
      "source": [
        "## Construct normalized sequences"
      ]
    },
    {
      "cell_type": "markdown",
      "metadata": {
        "id": "JR0iv2bI3F2P"
      },
      "source": [
        "\"Each of the data segments was normalized by subtracting each price in the sequence by the first price in the sequence, then divide by the first price in the sequence. This form of normalization is called relative change.\""
      ]
    },
    {
      "cell_type": "code",
      "metadata": {
        "id": "YA0Dg0by28DN"
      },
      "source": [
        "# https://pandas.pydata.org/pandas-docs/stable/reference/api/pandas.DataFrame.apply.html#pandas.DataFrame.apply\n",
        "\n",
        "def relative_change_normalization(data):\n",
        "  \"\"\"\n",
        "  df: pandas.DataFrame\n",
        "\n",
        "  Returns df where each column is normalized by subtracting the first row of the\n",
        "  column and then dividing by the first row of the column.\n",
        "  \"\"\"\n",
        "  return data.apply(lambda x: (x - x[0]) / x[0])"
      ],
      "execution_count": 7,
      "outputs": []
    },
    {
      "cell_type": "code",
      "metadata": {
        "id": "SqU5oATd7t0-"
      },
      "source": [
        "def make_sequences(timeseries, sequence_length, target, to_numpy=False):\n",
        "  \"\"\"\n",
        "  timeseries: pandas.Series\n",
        "  sequence_length: positive integer\n",
        "  to_numpy: Bool (default=False)\n",
        "\n",
        "  Returns pandas.DataFrame where each column is name is based on the first day\n",
        "  of the sequence and holds sequence_length number of consecutive entries of\n",
        "  timeseries which we call a sequence.\n",
        "  If to_numpy is True, then convert pandas.DataFrame to numpy array of shape\n",
        "  (timeseries.size - sequence_length + 1, sequence_length).\n",
        "  \"\"\"\n",
        "  sequence_ix = [np.arange(i, i + sequence_length) for i in np.arange(timeseries.size - (sequence_length + target) + 1)]\n",
        "  df = pd.DataFrame(columns=timeseries.index[:-(sequence_length+target)+1], # columns as first day of sequence\n",
        "                    data=np.array([timeseries[ix] for ix in sequence_ix]).T,\n",
        "                    index=np.arange(sequence_length))\n",
        "  df = relative_change_normalization(df)\n",
        "  df.columns.rename('First day of sequence', inplace=True)\n",
        "  df.index.rename('Day', inplace=True)\n",
        "\n",
        "  # normalize target values relative to the first day of their corresponding sequence\n",
        "  target_values_norm = timeseries[: timeseries.size - (sequence_length + target -1)].values\n",
        "  target_values = (timeseries[sequence_length + target -1 :] - target_values_norm) / target_values_norm\n",
        "\n",
        "  if to_numpy:\n",
        "    return df.to_numpy().T, target_values.to_numpy()\n",
        "  else:\n",
        "    return df, target_values"
      ],
      "execution_count": 27,
      "outputs": []
    },
    {
      "cell_type": "code",
      "metadata": {
        "id": "7GzGSHs4IRPW"
      },
      "source": [
        "X, y = make_sequences(df['Close'], 50, 7, to_numpy=False)"
      ],
      "execution_count": 28,
      "outputs": []
    },
    {
      "cell_type": "code",
      "metadata": {
        "colab": {
          "base_uri": "https://localhost:8080/"
        },
        "id": "x1YkX8RXK-ns",
        "outputId": "1c2db908-6c74-4b01-e744-7c8b787799d4"
      },
      "source": [
        "X.shape"
      ],
      "execution_count": 29,
      "outputs": [
        {
          "output_type": "execute_result",
          "data": {
            "text/plain": [
              "(50, 2690)"
            ]
          },
          "metadata": {
            "tags": []
          },
          "execution_count": 29
        }
      ]
    },
    {
      "cell_type": "code",
      "metadata": {
        "colab": {
          "base_uri": "https://localhost:8080/"
        },
        "id": "jR53nYm3LAkZ",
        "outputId": "189e4c18-41d0-4e53-d8f4-6fcbb7c61b00"
      },
      "source": [
        "y.shape"
      ],
      "execution_count": 30,
      "outputs": [
        {
          "output_type": "execute_result",
          "data": {
            "text/plain": [
              "(2690,)"
            ]
          },
          "metadata": {
            "tags": []
          },
          "execution_count": 30
        }
      ]
    },
    {
      "cell_type": "markdown",
      "metadata": {
        "id": "GH3FFhyrLuvR"
      },
      "source": [
        "#### make_sequence usage example: 50 day running mean"
      ]
    },
    {
      "cell_type": "code",
      "metadata": {
        "id": "aSZ-MCVJD-LQ"
      },
      "source": [
        "seqdf,_ = make_sequences(df['Close'], 50, 7, to_numpy=False)\n",
        "running_mean_series = seqdf.mean()"
      ],
      "execution_count": null,
      "outputs": []
    },
    {
      "cell_type": "code",
      "metadata": {
        "id": "pzfWfCr_ED0g"
      },
      "source": [
        "import matplotlib.ticker as ticker\n",
        "\n",
        "fig, ax = plt.subplots(figsize=(10,7))\n",
        "\n",
        "N = df['Close'].index.size\n",
        "ind = np.arange(N)  # the evenly spaced plot indices\n",
        "ind_ = np.arange(running_mean_series.size) + 50\n",
        "\n",
        "ax.plot(ind, df['Close'], label='Daily close price')\n",
        "ax.plot(ind_, running_mean_series, label='50 day running mean')\n",
        "\n",
        "def format_date(x, pos=None):\n",
        "    thisind = np.clip(int(x + 0.5), 0, N - 1)\n",
        "    return df.index[thisind]\n",
        "\n",
        "ax.xaxis.set_major_formatter(ticker.FuncFormatter(format_date))\n",
        "fig.autofmt_xdate()\n",
        "\n",
        "ax.set_ylabel('Close price')\n",
        "ax.set_xlabel('Date (week day)')\n",
        "plt.legend()\n",
        "plt.show()"
      ],
      "execution_count": null,
      "outputs": []
    },
    {
      "cell_type": "markdown",
      "metadata": {
        "id": "RTnOQ7Q9L95l"
      },
      "source": [
        "#### Relative change normalization\n",
        "\"Each of the data segments was normalized by subtracting each price in the sequence by the first price in the sequence, then divide by the first price in the sequence. This form of normalization is called relative change.\""
      ]
    },
    {
      "cell_type": "markdown",
      "metadata": {
        "id": "a8t_lb67eR3D"
      },
      "source": [
        "# Hyper parameters"
      ]
    },
    {
      "cell_type": "code",
      "metadata": {
        "id": "4ol7QWpoUxWP"
      },
      "source": [
        "learning_rate=0.001\n",
        "rho=0.95 \n",
        "epsilon=1e-07\n",
        "cnn_kernel_sizes = 9\n",
        "n_cnn_filters = 128\n",
        "pool_size = 2"
      ],
      "execution_count": null,
      "outputs": []
    },
    {
      "cell_type": "markdown",
      "metadata": {
        "id": "6578PniRYoN7"
      },
      "source": [
        "#loss and optimizer"
      ]
    },
    {
      "cell_type": "code",
      "metadata": {
        "id": "ziDMuLbSYtKi"
      },
      "source": [
        "# loss and accuracy function\n",
        "def MSE(y, y_p):\n",
        "    \"\"\"Return the Mean Squared Error.\n",
        "\n",
        "    Keyword arguments:\n",
        "    y -- actual values.\n",
        "    y_p -- predicted values.\n",
        "    \"\"\"\n",
        "    return tf.reduce_mean(tf.math.squared_difference(y, y_p))"
      ],
      "execution_count": null,
      "outputs": []
    },
    {
      "cell_type": "code",
      "metadata": {
        "id": "mXRmM0L1VKa7"
      },
      "source": [
        "# The arguments are the default values of tf. The paper does not mention those values.\n",
        "optimizer = tf.optimizers.Adadelta(learning_rate, rho, epsilon)"
      ],
      "execution_count": null,
      "outputs": []
    },
    {
      "cell_type": "markdown",
      "metadata": {
        "id": "A2a7e8TQUncR"
      },
      "source": [
        "# **TODO** Initializing weights and biases\n",
        "\n"
      ]
    },
    {
      "cell_type": "code",
      "metadata": {
        "id": "GCaz9N2RUpBa"
      },
      "source": [
        "# # Inspired by  https://www.datacamp.com/community/tutorials/cnn-tensorflow-python\n",
        "\n",
        "# weights = {\n",
        "# 'Wc1_1': tf.Variable(tf.random.normal(shape=[cnn_kernel_sizes, 1, 1, n_cnn_filters])), # Weights of CNN for first pipeline and first conv layer\n",
        "# 'Wc1_2': tf.Variable(tf.random.normal(shape=[cnn_kernel_sizes, 1, n_cnn_filters, n_cnn_filters*2])),  # Weights of CNN for first pipeline and second conv layer\n",
        "# 'Wc1_3': tf.Variable(tf.random.normal(shape=[cnn_kernel_sizes, 1, n_cnn_filters*2, n_cnn_filters*4])),  # Weights of CNN for first pipeline and third conv layer\n",
        "\n",
        "# 'Wc2_1': tf.Variable(tf.random.normal(shape=[cnn_kernel_sizes, 1, 1, n_cnn_filters])), # Weights of CNN for second pipeline and first conv\n",
        "# 'Wc2_2': tf.Variable(tf.random.normal(shape=[cnn_kernel_sizes, 1, n_cnn_filters, n_cnn_filters*2])), # Weights of CNN for second pipeline and second conv layer\n",
        "# 'Wc2_3': tf.Variable(tf.random.normal(shape=[cnn_kernel_sizes, 1, n_cnn_filters*2, n_cnn_filters*4])), # Weights of CNN for second pipeline and third conv layer\n",
        "\n",
        "# 'Wc3_1': tf.Variable(tf.random.normal(shape=[cnn_kernel_sizes, 1, 1, n_cnn_filters])), # Weights of CNN for third pipeline and first conv layer\n",
        "# 'Wc3_2': tf.Variable(tf.random.normal(shape=[cnn_kernel_sizes, 1, n_cnn_filters, n_cnn_filters*2])), # Weights of CNN for third pipeline and second conv layer\n",
        "# 'Wc3_3': tf.Variable(tf.random.normal(shape=[cnn_kernel_sizes, 1, n_cnn_filters*2, n_cnn_filters*4])), # Weights of CNN for third pipeline and second conv layer\n",
        "\n",
        "\n",
        "\n",
        "# 'Wbd1_1': tf.Variable(tf.random.normal(shape=)), # Weights of BDLSTM for first pipeline and first BDLSTM layer\n",
        "# 'Wbd1_2': tf.Variable(tf.random.normal(shape=)), # Weights of BDLSTM for first pipeline and second BDLSTM layer\n",
        "\n",
        "# 'wbd2_1': tf.Variable(tf.random.normal(shape=)), # Weights of BDLSTM for second pipeline and first BDLSTM layer\n",
        "# 'wbd2_2': tf.Variable(tf.random.normal(shape=)), # Weights of BDLSTM for second pipeline and second BDLSTM layer\n",
        "\n",
        "\n",
        "# 'Wbd3_1': tf.Variable(tf.random.normal(shape=)), # Weights of BDLSTM for third pipeline and first BDLSTM layer\n",
        "# 'Wbd3_2': tf.Variable(tf.random.normal(shape=)), # Weights of BDLSTM for third pipeline and second BDLSTM layer\n",
        "\n",
        "\n",
        "    \n",
        "# 'Wd1': tf.Variable(tf.random.normal(shape=)), # Weights of Dense for first pipeline\n",
        "# 'Wd2': tf.Variable(tf.random.normal(shape=)), # Weights of Dense for second pipeline\n",
        "# 'Wd3': tf.Variable(tf.random.normal(shape=)), # Weights of Dense for third pipeline\n",
        "    \n",
        "\n",
        "\n",
        "# 'Wout': tf.Variable(tf.random.normal(shape=)) # Weights of Dense for output layer\n",
        "# }\n",
        "\n",
        "\n",
        "# biases = {\n",
        "# 'Bc1_1': tf.Variable(tf.random.normal(shape=)), # Biases of CNN for first pipeline and first conv\n",
        "# 'Bc1_2': tf.Variable(tf.random.normal(shape=)), # Biases of CNN for first pipeline and second conv\n",
        "# 'Bc1_3': tf.Variable(tf.random.normal(shape=)), # Biases of CNN for first pipeline and third conv\n",
        "\n",
        "# 'Bc2_1': tf.Variable(tf.random.normal(shape=)), # Biases of CNN for second pipeline and first conv\n",
        "# 'Bc2_2': tf.Variable(tf.random.normal(shape=)), # Biases of CNN for second pipeline and second conv\n",
        "# 'Bc2_3': tf.Variable(tf.random.normal(shape=)), # Biases of CNN for second pipeline and third conv\n",
        "\n",
        "# 'Bc3_1': tf.Variable(tf.random.normal(shape=)), # Biases of CNN for third pipeline and first conv\n",
        "# 'Bc3_2': tf.Variable(tf.random.normal(shape=)), # Biases of CNN for third pipeline and second conv\n",
        "# 'Bc3_3': tf.Variable(tf.random.normal(shape=)), # Biases of CNN for third pipeline and third conv\n",
        "\n",
        "\n",
        "    \n",
        "# 'Bbd1': tf.Variable(tf.random.normal(shape=)), # Biases of BDLSTM for first pipeline\n",
        "# 'Bbd2': tf.Variable(tf.random.normal(shape=)), # Biases of BDLSTM for second pipeline\n",
        "# 'Bbd3': tf.Variable(tf.random.normal(shape=)), # Biases of BDLSTM for third pipeline\n",
        "    \n",
        "\n",
        "\n",
        "# 'Bd1': tf.Variable(tf.random.normal(shape=)), # Biases of Dense for first pipeline\n",
        "# 'Bd2': tf.Variable(tf.random.normal(shape=)), # Biases of Dense for second pipeline\n",
        "# 'Bd3': tf.Variable(tf.random.normal(shape=)), # Biases of Dense for third pipeline\n",
        "    \n",
        "\n",
        "\n",
        "# 'Bout': tf.Variable(tf.random.normal(shape=)) # Biases of Dense for output layer\n",
        "# }\n",
        "\n"
      ],
      "execution_count": null,
      "outputs": []
    },
    {
      "cell_type": "code",
      "metadata": {
        "id": "7sTi-7g39qBz"
      },
      "source": [
        "# Conv1D Layers"
      ],
      "execution_count": null,
      "outputs": []
    },
    {
      "cell_type": "code",
      "metadata": {
        "id": "j5b-NHJS-Bg0",
        "colab": {
          "base_uri": "https://localhost:8080/",
          "height": 735
        },
        "outputId": "5e76ddef-9fb4-4e68-accc-47883a458c5a"
      },
      "source": [
        "# LSTM Layers\n",
        "\n",
        "# CONTEXT\n",
        "# Theory: http://colah.github.io/posts/2015-08-Understanding-LSTMs/\n",
        "\n",
        "# CODE\n",
        "# Useful: https://stackoverflow.com/questions/54767816/how-exactly-does-lstmcell-from-tensorflow-operates\n",
        "# GitHub: https://github.com/tensorflow/tensorflow/blob/v2.3.1/tensorflow/python/keras/layers/legacy_rnn/rnn_cell_impl.py#L809-L1089\n",
        "\n",
        "\"\"\"\n",
        "The output from the CNN group is fed into the Bi-\n",
        "directional LSTM layer group which:\n",
        "\n",
        "1) learns using 200 pairs of forward and backward LSTM units.\n",
        "2) gives an output sequence of length 400\n",
        "3) drops 50% (dropout) of the weights to generalize the model.\n",
        "\n",
        "The two dimensional output of this group is then fed to a\n",
        "dense layer.\n",
        "\"\"\"\n",
        "\n",
        "# Hyper parameters \n",
        "units = 200\n",
        "\n",
        "# Single forward and backwards cells\n",
        "lstm_fw_cell = tf.compat.v1.nn.rnn_cell.LSTMCell(num_units=units)\n",
        "lstm_bw_cell = tf.compat.v1.nn.rnn_cell.LSTMCell(num_units=units)\n",
        "print(lstm_fw_cell.state_size, lstm_fw_cell.output_size)\n",
        "\n",
        "# tf.nn.bidirectional_rnn takes a list of tensors with shape \n",
        "# [batch_size x cell_fw.state_size], so separate the input into discrete\n",
        "# timesteps.\n",
        "# state_fw and state_bw are the final states of the forwards/backwards LSTM, respectively\n",
        "_X = X.to_numpy()\n",
        "__X = tf.unstack(_X, 2690, 1)\n",
        "print(__X[0])\n",
        "### Getting errors\n",
        "# https://www.easy-tensorflow.com/tf-tutorials/recurrent-neural-networks/bidirectional-rnn-for-classification\n",
        "tf.compat.v1.nn.bidirectional_dynamic_rnn(lstm_fw_cell, lstm_bw_cell, __X, sequence_length=[50, 2690, 1] , dtype=tf.float64)"
      ],
      "execution_count": null,
      "outputs": [
        {
          "output_type": "stream",
          "text": [
            "WARNING:tensorflow:<tensorflow.python.keras.layers.legacy_rnn.rnn_cell_impl.LSTMCell object at 0x7ff119c972e8>: Note that this cell is not optimized for performance. Please use tf.contrib.cudnn_rnn.CudnnLSTM for better performance on GPU.\n",
            "WARNING:tensorflow:<tensorflow.python.keras.layers.legacy_rnn.rnn_cell_impl.LSTMCell object at 0x7ff119c973c8>: Note that this cell is not optimized for performance. Please use tf.contrib.cudnn_rnn.CudnnLSTM for better performance on GPU.\n",
            "LSTMStateTuple(c=200, h=200) 200\n",
            "tf.Tensor(\n",
            "[1447.160034 1447.160034 1411.630005 1416.180054 1390.189941 1409.130005\n",
            " 1420.329956 1401.02002  1416.25     1380.949951 1373.199951 1333.25\n",
            " 1325.189941 1310.5      1338.599976 1352.069946 1330.609985 1353.959961\n",
            " 1362.300049 1355.810059 1378.550049 1395.420044 1380.819946 1336.640015\n",
            " 1326.449951 1336.910034 1331.290039 1339.130005 1348.859985 1367.209961\n",
            " 1348.859985 1349.98999  1348.780029 1360.030029 1342.530029 1353.109985\n",
            " 1371.800049 1381.290039 1380.02002  1367.680054 1330.630005 1331.339966\n",
            " 1326.75     1333.699951 1304.339966 1293.369995 1273.369995 1320.650024\n",
            " 1308.77002  1315.47998 ], shape=(50,), dtype=float64)\n"
          ],
          "name": "stdout"
        },
        {
          "output_type": "error",
          "ename": "ValueError",
          "evalue": "ignored",
          "traceback": [
            "\u001b[0;31m---------------------------------------------------------------------------\u001b[0m",
            "\u001b[0;31mValueError\u001b[0m                                Traceback (most recent call last)",
            "\u001b[0;32m<ipython-input-74-9744799e4bcd>\u001b[0m in \u001b[0;36m<module>\u001b[0;34m()\u001b[0m\n\u001b[1;32m     37\u001b[0m \u001b[0;31m### Getting errors\u001b[0m\u001b[0;34m\u001b[0m\u001b[0;34m\u001b[0m\u001b[0;34m\u001b[0m\u001b[0m\n\u001b[1;32m     38\u001b[0m \u001b[0;31m# https://www.easy-tensorflow.com/tf-tutorials/recurrent-neural-networks/bidirectional-rnn-for-classification\u001b[0m\u001b[0;34m\u001b[0m\u001b[0;34m\u001b[0m\u001b[0;34m\u001b[0m\u001b[0m\n\u001b[0;32m---> 39\u001b[0;31m \u001b[0mtf\u001b[0m\u001b[0;34m.\u001b[0m\u001b[0mcompat\u001b[0m\u001b[0;34m.\u001b[0m\u001b[0mv1\u001b[0m\u001b[0;34m.\u001b[0m\u001b[0mnn\u001b[0m\u001b[0;34m.\u001b[0m\u001b[0mbidirectional_dynamic_rnn\u001b[0m\u001b[0;34m(\u001b[0m\u001b[0mlstm_fw_cell\u001b[0m\u001b[0;34m,\u001b[0m \u001b[0mlstm_bw_cell\u001b[0m\u001b[0;34m,\u001b[0m \u001b[0m__X\u001b[0m\u001b[0;34m,\u001b[0m \u001b[0msequence_length\u001b[0m\u001b[0;34m=\u001b[0m\u001b[0;34m[\u001b[0m\u001b[0;36m50\u001b[0m\u001b[0;34m,\u001b[0m \u001b[0;36m2690\u001b[0m\u001b[0;34m,\u001b[0m \u001b[0;36m1\u001b[0m\u001b[0;34m]\u001b[0m \u001b[0;34m,\u001b[0m \u001b[0mdtype\u001b[0m\u001b[0;34m=\u001b[0m\u001b[0mtf\u001b[0m\u001b[0;34m.\u001b[0m\u001b[0mfloat64\u001b[0m\u001b[0;34m)\u001b[0m\u001b[0;34m\u001b[0m\u001b[0;34m\u001b[0m\u001b[0m\n\u001b[0m",
            "\u001b[0;32m/usr/local/lib/python3.6/dist-packages/tensorflow/python/util/deprecation.py\u001b[0m in \u001b[0;36mnew_func\u001b[0;34m(*args, **kwargs)\u001b[0m\n\u001b[1;32m    322\u001b[0m               \u001b[0;34m'in a future version'\u001b[0m \u001b[0;32mif\u001b[0m \u001b[0mdate\u001b[0m \u001b[0;32mis\u001b[0m \u001b[0;32mNone\u001b[0m \u001b[0;32melse\u001b[0m \u001b[0;34m(\u001b[0m\u001b[0;34m'after %s'\u001b[0m \u001b[0;34m%\u001b[0m \u001b[0mdate\u001b[0m\u001b[0;34m)\u001b[0m\u001b[0;34m,\u001b[0m\u001b[0;34m\u001b[0m\u001b[0;34m\u001b[0m\u001b[0m\n\u001b[1;32m    323\u001b[0m               instructions)\n\u001b[0;32m--> 324\u001b[0;31m       \u001b[0;32mreturn\u001b[0m \u001b[0mfunc\u001b[0m\u001b[0;34m(\u001b[0m\u001b[0;34m*\u001b[0m\u001b[0margs\u001b[0m\u001b[0;34m,\u001b[0m \u001b[0;34m**\u001b[0m\u001b[0mkwargs\u001b[0m\u001b[0;34m)\u001b[0m\u001b[0;34m\u001b[0m\u001b[0;34m\u001b[0m\u001b[0m\n\u001b[0m\u001b[1;32m    325\u001b[0m     return tf_decorator.make_decorator(\n\u001b[1;32m    326\u001b[0m         \u001b[0mfunc\u001b[0m\u001b[0;34m,\u001b[0m \u001b[0mnew_func\u001b[0m\u001b[0;34m,\u001b[0m \u001b[0;34m'deprecated'\u001b[0m\u001b[0;34m,\u001b[0m\u001b[0;34m\u001b[0m\u001b[0;34m\u001b[0m\u001b[0m\n",
            "\u001b[0;32m/usr/local/lib/python3.6/dist-packages/tensorflow/python/util/dispatch.py\u001b[0m in \u001b[0;36mwrapper\u001b[0;34m(*args, **kwargs)\u001b[0m\n\u001b[1;32m    199\u001b[0m     \u001b[0;34m\"\"\"Call target, and fall back on dispatchers if there is a TypeError.\"\"\"\u001b[0m\u001b[0;34m\u001b[0m\u001b[0;34m\u001b[0m\u001b[0m\n\u001b[1;32m    200\u001b[0m     \u001b[0;32mtry\u001b[0m\u001b[0;34m:\u001b[0m\u001b[0;34m\u001b[0m\u001b[0;34m\u001b[0m\u001b[0m\n\u001b[0;32m--> 201\u001b[0;31m       \u001b[0;32mreturn\u001b[0m \u001b[0mtarget\u001b[0m\u001b[0;34m(\u001b[0m\u001b[0;34m*\u001b[0m\u001b[0margs\u001b[0m\u001b[0;34m,\u001b[0m \u001b[0;34m**\u001b[0m\u001b[0mkwargs\u001b[0m\u001b[0;34m)\u001b[0m\u001b[0;34m\u001b[0m\u001b[0;34m\u001b[0m\u001b[0m\n\u001b[0m\u001b[1;32m    202\u001b[0m     \u001b[0;32mexcept\u001b[0m \u001b[0;34m(\u001b[0m\u001b[0mTypeError\u001b[0m\u001b[0;34m,\u001b[0m \u001b[0mValueError\u001b[0m\u001b[0;34m)\u001b[0m\u001b[0;34m:\u001b[0m\u001b[0;34m\u001b[0m\u001b[0;34m\u001b[0m\u001b[0m\n\u001b[1;32m    203\u001b[0m       \u001b[0;31m# Note: convert_to_eager_tensor currently raises a ValueError, not a\u001b[0m\u001b[0;34m\u001b[0m\u001b[0;34m\u001b[0m\u001b[0;34m\u001b[0m\u001b[0m\n",
            "\u001b[0;32m/usr/local/lib/python3.6/dist-packages/tensorflow/python/ops/rnn.py\u001b[0m in \u001b[0;36mbidirectional_dynamic_rnn\u001b[0;34m(cell_fw, cell_bw, inputs, sequence_length, initial_state_fw, initial_state_bw, dtype, parallel_iterations, swap_memory, time_major, scope)\u001b[0m\n\u001b[1;32m    445\u001b[0m           \u001b[0mswap_memory\u001b[0m\u001b[0;34m=\u001b[0m\u001b[0mswap_memory\u001b[0m\u001b[0;34m,\u001b[0m\u001b[0;34m\u001b[0m\u001b[0;34m\u001b[0m\u001b[0m\n\u001b[1;32m    446\u001b[0m           \u001b[0mtime_major\u001b[0m\u001b[0;34m=\u001b[0m\u001b[0mtime_major\u001b[0m\u001b[0;34m,\u001b[0m\u001b[0;34m\u001b[0m\u001b[0;34m\u001b[0m\u001b[0m\n\u001b[0;32m--> 447\u001b[0;31m           scope=fw_scope)\n\u001b[0m\u001b[1;32m    448\u001b[0m \u001b[0;34m\u001b[0m\u001b[0m\n\u001b[1;32m    449\u001b[0m     \u001b[0;31m# Backward direction\u001b[0m\u001b[0;34m\u001b[0m\u001b[0;34m\u001b[0m\u001b[0;34m\u001b[0m\u001b[0m\n",
            "\u001b[0;32m/usr/local/lib/python3.6/dist-packages/tensorflow/python/util/deprecation.py\u001b[0m in \u001b[0;36mnew_func\u001b[0;34m(*args, **kwargs)\u001b[0m\n\u001b[1;32m    322\u001b[0m               \u001b[0;34m'in a future version'\u001b[0m \u001b[0;32mif\u001b[0m \u001b[0mdate\u001b[0m \u001b[0;32mis\u001b[0m \u001b[0;32mNone\u001b[0m \u001b[0;32melse\u001b[0m \u001b[0;34m(\u001b[0m\u001b[0;34m'after %s'\u001b[0m \u001b[0;34m%\u001b[0m \u001b[0mdate\u001b[0m\u001b[0;34m)\u001b[0m\u001b[0;34m,\u001b[0m\u001b[0;34m\u001b[0m\u001b[0;34m\u001b[0m\u001b[0m\n\u001b[1;32m    323\u001b[0m               instructions)\n\u001b[0;32m--> 324\u001b[0;31m       \u001b[0;32mreturn\u001b[0m \u001b[0mfunc\u001b[0m\u001b[0;34m(\u001b[0m\u001b[0;34m*\u001b[0m\u001b[0margs\u001b[0m\u001b[0;34m,\u001b[0m \u001b[0;34m**\u001b[0m\u001b[0mkwargs\u001b[0m\u001b[0;34m)\u001b[0m\u001b[0;34m\u001b[0m\u001b[0;34m\u001b[0m\u001b[0m\n\u001b[0m\u001b[1;32m    325\u001b[0m     return tf_decorator.make_decorator(\n\u001b[1;32m    326\u001b[0m         \u001b[0mfunc\u001b[0m\u001b[0;34m,\u001b[0m \u001b[0mnew_func\u001b[0m\u001b[0;34m,\u001b[0m \u001b[0;34m'deprecated'\u001b[0m\u001b[0;34m,\u001b[0m\u001b[0;34m\u001b[0m\u001b[0;34m\u001b[0m\u001b[0m\n",
            "\u001b[0;32m/usr/local/lib/python3.6/dist-packages/tensorflow/python/util/dispatch.py\u001b[0m in \u001b[0;36mwrapper\u001b[0;34m(*args, **kwargs)\u001b[0m\n\u001b[1;32m    199\u001b[0m     \u001b[0;34m\"\"\"Call target, and fall back on dispatchers if there is a TypeError.\"\"\"\u001b[0m\u001b[0;34m\u001b[0m\u001b[0;34m\u001b[0m\u001b[0m\n\u001b[1;32m    200\u001b[0m     \u001b[0;32mtry\u001b[0m\u001b[0;34m:\u001b[0m\u001b[0;34m\u001b[0m\u001b[0;34m\u001b[0m\u001b[0m\n\u001b[0;32m--> 201\u001b[0;31m       \u001b[0;32mreturn\u001b[0m \u001b[0mtarget\u001b[0m\u001b[0;34m(\u001b[0m\u001b[0;34m*\u001b[0m\u001b[0margs\u001b[0m\u001b[0;34m,\u001b[0m \u001b[0;34m**\u001b[0m\u001b[0mkwargs\u001b[0m\u001b[0;34m)\u001b[0m\u001b[0;34m\u001b[0m\u001b[0;34m\u001b[0m\u001b[0m\n\u001b[0m\u001b[1;32m    202\u001b[0m     \u001b[0;32mexcept\u001b[0m \u001b[0;34m(\u001b[0m\u001b[0mTypeError\u001b[0m\u001b[0;34m,\u001b[0m \u001b[0mValueError\u001b[0m\u001b[0;34m)\u001b[0m\u001b[0;34m:\u001b[0m\u001b[0;34m\u001b[0m\u001b[0;34m\u001b[0m\u001b[0m\n\u001b[1;32m    203\u001b[0m       \u001b[0;31m# Note: convert_to_eager_tensor currently raises a ValueError, not a\u001b[0m\u001b[0;34m\u001b[0m\u001b[0;34m\u001b[0m\u001b[0;34m\u001b[0m\u001b[0m\n",
            "\u001b[0;32m/usr/local/lib/python3.6/dist-packages/tensorflow/python/ops/rnn.py\u001b[0m in \u001b[0;36mdynamic_rnn\u001b[0;34m(cell, inputs, sequence_length, initial_state, dtype, parallel_iterations, swap_memory, time_major, scope)\u001b[0m\n\u001b[1;32m    651\u001b[0m           name=\"sequence_length\")\n\u001b[1;32m    652\u001b[0m \u001b[0;34m\u001b[0m\u001b[0m\n\u001b[0;32m--> 653\u001b[0;31m     \u001b[0mbatch_size\u001b[0m \u001b[0;34m=\u001b[0m \u001b[0m_best_effort_input_batch_size\u001b[0m\u001b[0;34m(\u001b[0m\u001b[0mflat_input\u001b[0m\u001b[0;34m)\u001b[0m\u001b[0;34m\u001b[0m\u001b[0;34m\u001b[0m\u001b[0m\n\u001b[0m\u001b[1;32m    654\u001b[0m \u001b[0;34m\u001b[0m\u001b[0m\n\u001b[1;32m    655\u001b[0m     \u001b[0;32mif\u001b[0m \u001b[0minitial_state\u001b[0m \u001b[0;32mis\u001b[0m \u001b[0;32mnot\u001b[0m \u001b[0;32mNone\u001b[0m\u001b[0;34m:\u001b[0m\u001b[0;34m\u001b[0m\u001b[0;34m\u001b[0m\u001b[0m\n",
            "\u001b[0;32m/usr/local/lib/python3.6/dist-packages/tensorflow/python/ops/rnn.py\u001b[0m in \u001b[0;36m_best_effort_input_batch_size\u001b[0;34m(flat_input)\u001b[0m\n\u001b[1;32m     87\u001b[0m     \u001b[0;32mif\u001b[0m \u001b[0mshape\u001b[0m\u001b[0;34m.\u001b[0m\u001b[0mrank\u001b[0m \u001b[0;34m<\u001b[0m \u001b[0;36m2\u001b[0m\u001b[0;34m:\u001b[0m\u001b[0;34m\u001b[0m\u001b[0;34m\u001b[0m\u001b[0m\n\u001b[1;32m     88\u001b[0m       raise ValueError(\"Expected input tensor %s to have rank at least 2\" %\n\u001b[0;32m---> 89\u001b[0;31m                        input_)\n\u001b[0m\u001b[1;32m     90\u001b[0m     \u001b[0mbatch_size\u001b[0m \u001b[0;34m=\u001b[0m \u001b[0mshape\u001b[0m\u001b[0;34m.\u001b[0m\u001b[0mdims\u001b[0m\u001b[0;34m[\u001b[0m\u001b[0;36m1\u001b[0m\u001b[0;34m]\u001b[0m\u001b[0;34m.\u001b[0m\u001b[0mvalue\u001b[0m\u001b[0;34m\u001b[0m\u001b[0;34m\u001b[0m\u001b[0m\n\u001b[1;32m     91\u001b[0m     \u001b[0;32mif\u001b[0m \u001b[0mbatch_size\u001b[0m \u001b[0;32mis\u001b[0m \u001b[0;32mnot\u001b[0m \u001b[0;32mNone\u001b[0m\u001b[0;34m:\u001b[0m\u001b[0;34m\u001b[0m\u001b[0;34m\u001b[0m\u001b[0m\n",
            "\u001b[0;31mValueError\u001b[0m: Expected input tensor tf.Tensor(\n[1447.160034 1447.160034 1411.630005 1416.180054 1390.189941 1409.130005\n 1420.329956 1401.02002  1416.25     1380.949951 1373.199951 1333.25\n 1325.189941 1310.5      1338.599976 1352.069946 1330.609985 1353.959961\n 1362.300049 1355.810059 1378.550049 1395.420044 1380.819946 1336.640015\n 1326.449951 1336.910034 1331.290039 1339.130005 1348.859985 1367.209961\n 1348.859985 1349.98999  1348.780029 1360.030029 1342.530029 1353.109985\n 1371.800049 1381.290039 1380.02002  1367.680054 1330.630005 1331.339966\n 1326.75     1333.699951 1304.339966 1293.369995 1273.369995 1320.650024\n 1308.77002  1315.47998 ], shape=(50,), dtype=float64) to have rank at least 2"
          ]
        }
      ]
    },
    {
      "cell_type": "code",
      "metadata": {
        "id": "6RKjTMoO_XhU"
      },
      "source": [
        ""
      ],
      "execution_count": null,
      "outputs": []
    },
    {
      "cell_type": "code",
      "metadata": {
        "id": "nWxcNeWmzFKb"
      },
      "source": [
        ""
      ],
      "execution_count": null,
      "outputs": []
    },
    {
      "cell_type": "markdown",
      "metadata": {
        "id": "wQMnxDWszGuD"
      },
      "source": [
        "# Test NN amir"
      ]
    },
    {
      "cell_type": "code",
      "metadata": {
        "id": "zCKpjeJQz7Mp"
      },
      "source": [
        "seg = make_sequences(df['Close'], 50, to_numpy=False)\n",
        "norma = relative_change_normalization(seg)\n",
        "X = norma.T.values\n",
        "X.shape\n",
        "X = X.reshape(2691,1,50)\n",
        "y = np.delete(norma.iloc[-1].to_numpy(), 0)"
      ],
      "execution_count": null,
      "outputs": []
    },
    {
      "cell_type": "code",
      "metadata": {
        "id": "UY1YRDJGzLTQ"
      },
      "source": [
        "Wc1_1 = tf.Variable(tf.random.normal(shape=[cnn_kernel_sizes, 1, n_cnn_filters], dtype=tf.float64)) # Weights of CNN for first pipeline and first conv layer\n",
        "Wc1_2 = tf.Variable(tf.random.normal(shape=[cnn_kernel_sizes, n_cnn_filters, n_cnn_filters*2], dtype=tf.float64))  # Weights of CNN for first pipeline and second conv layer\n",
        "Wc1_3 = tf.Variable(tf.random.normal(shape=[cnn_kernel_sizes, n_cnn_filters*2, n_cnn_filters*4], dtype=tf.float64))  # Weights of CNN for first pipeline and third conv layer\n",
        "\n",
        "\n",
        "Wd1 = tf.Variable(tf.random.normal(shape=[n_cnn_filters*4, n_cnn_filters*4], dtype=tf.float64)) # Weights of Dense for first pipeline\n",
        "\n",
        "Wout = tf.Variable(tf.random.normal(shape=[n_cnn_filters*4, 1], dtype=tf.float64)) # Weights of Dense for output layer\n",
        "\n",
        "\n",
        "\n",
        "\n",
        "Bc1_1 = tf.Variable(tf.random.normal(shape=[n_cnn_filters], dtype=tf.float64)) # Biases of CNN for first pipeline and first conv\n",
        "Bc1_2 = tf.Variable(tf.random.normal(shape=[n_cnn_filters*2], dtype=tf.float64)) # Biases of CNN for first pipeline and second conv\n",
        "Bc1_3 = tf.Variable(tf.random.normal(shape=[n_cnn_filters*4], dtype=tf.float64)) # Biases of CNN for first pipeline and third conv\n",
        "\n",
        "Bd1 = tf.Variable(tf.random.normal(shape=[n_cnn_filters*4], dtype=tf.float64)) # Biases of Danse for first pipeline\n",
        "Bout = tf.Variable(tf.random.normal(shape=[1], dtype=tf.float64)) # Biases of Dense for output layer"
      ],
      "execution_count": null,
      "outputs": []
    },
    {
      "cell_type": "code",
      "metadata": {
        "id": "wh3gDs8yzQUq"
      },
      "source": [
        "def conv_1d(x, W, b, s=1):\n",
        "    # Conv1D wrapper, with bias and relu activation\n",
        "    x = tf.nn.conv1d(input=x, filters=W, stride=1, padding='SAME')\n",
        "    x = tf.nn.bias_add(x, b)\n",
        "    return x\n",
        "\n",
        "def maxpool_1d(x, k=2):\n",
        "    return tf.nn.max_pool(x, ksize=2, strides=1, padding='SAME')"
      ],
      "execution_count": null,
      "outputs": []
    },
    {
      "cell_type": "code",
      "metadata": {
        "id": "OQYc2nd_0snc"
      },
      "source": [
        "def feedforward(x):\n",
        "    z1 = tf.nn.relu(   conv_1d(x,  Wc1_1,   Bc1_1)    )\n",
        "    z1 = maxpool_1d(z1)\n",
        "    \n",
        "    z2 = tf.nn.relu(   conv_1d(z1,  Wc1_2,   Bc1_2)    )\n",
        "    z2 = maxpool_1d(z2)\n",
        "    \n",
        "    z3 = tf.nn.relu(   conv_1d(z2,  Wc1_3,   Bc1_3)    )\n",
        "    z3 = maxpool_1d(z3)\n",
        "    \n",
        "    # Fully connected layer\n",
        "    # Reshape conv1 output to fit fully connected layer input\n",
        "    fc1 = tf.reshape(z3, [-1, Wd1.get_shape().as_list()[0]])\n",
        "    fc1 = tf.add(tf.matmul(fc1, Wd1), Bd1)\n",
        "    fc1 = tf.nn.relu(fc1)\n",
        "    # Output, class prediction\n",
        "    # finally we multiply the fully connected layer with the weights and add a bias term.\n",
        "    out = tf.add(tf.matmul(fc1, Wout), Bout)\n",
        "    \n",
        "    return out"
      ],
      "execution_count": null,
      "outputs": []
    },
    {
      "cell_type": "code",
      "metadata": {
        "id": "xCd6sP1Y0vH6"
      },
      "source": [
        "# Optimization process. \n",
        "def run_optimization(x, y):\n",
        "# Wrap computation inside a GradientTape for automatic differentiation.\n",
        "    with tf.GradientTape() as g:\n",
        "        pred = feedforward(x)\n",
        "        \n",
        "        loss = MSE(y, pred)\n",
        "\n",
        "        # calculate the gradients of the loss with respect to the variables in the provided list\n",
        "        gradients = g.gradient(loss, [Wc1_1, Bc1_1, Wc1_2, Bc1_2, Wc1_3, Bc1_3, Wd1, Bd1, Wout, Bout])\n",
        "    # perform the update\n",
        "    optimizer.apply_gradients(zip(gradients, [Wc1_1, Bc1_1, Wc1_2, Bc1_2, Wc1_3, Bc1_3, Wd1, Bd1, Wout, Bout]))"
      ],
      "execution_count": null,
      "outputs": []
    },
    {
      "cell_type": "code",
      "metadata": {
        "id": "_Z8A3YRo0yUu"
      },
      "source": [
        "def train(X_tr, Y_tr):\n",
        "    for e in range(512):\n",
        "        # Run the optimization to update W and b values.\n",
        "        run_optimization(X_tr, Y_tr)\n",
        "\n",
        "        if e % 50 == 0:\n",
        "\n",
        "            pred = feedforward(X_tr)\n",
        "            loss = MSE(Y_tr, pred)\n",
        "            acc = MSE(Y_tr, pred)\n",
        "            \n",
        "            print(f\"epoch/step: {e}, loss: {loss}, accuracy: {acc}\")"
      ],
      "execution_count": null,
      "outputs": []
    },
    {
      "cell_type": "code",
      "metadata": {
        "colab": {
          "base_uri": "https://localhost:8080/",
          "height": 222
        },
        "id": "udP6cOzR00u7",
        "outputId": "5a27f34f-8fac-4a16-b6ea-99228401dabf"
      },
      "source": [
        "train(X,y)"
      ],
      "execution_count": null,
      "outputs": [
        {
          "output_type": "error",
          "ename": "NotFoundError",
          "evalue": "ignored",
          "traceback": [
            "\u001b[0;31m---------------------------------------------------------------------------\u001b[0m",
            "\u001b[0;31mNotFoundError\u001b[0m                             Traceback (most recent call last)",
            "\u001b[0;32m<ipython-input-1088-7e0988a39aa5>\u001b[0m in \u001b[0;36m<module>\u001b[0;34m()\u001b[0m\n\u001b[0;32m----> 1\u001b[0;31m \u001b[0mtrain\u001b[0m\u001b[0;34m(\u001b[0m\u001b[0mX\u001b[0m\u001b[0;34m,\u001b[0m\u001b[0my\u001b[0m\u001b[0;34m)\u001b[0m\u001b[0;34m\u001b[0m\u001b[0;34m\u001b[0m\u001b[0m\n\u001b[0m",
            "\u001b[0;32m<ipython-input-1087-1170adb15656>\u001b[0m in \u001b[0;36mtrain\u001b[0;34m(X_tr, Y_tr)\u001b[0m\n\u001b[1;32m      2\u001b[0m     \u001b[0;32mfor\u001b[0m \u001b[0me\u001b[0m \u001b[0;32min\u001b[0m \u001b[0mrange\u001b[0m\u001b[0;34m(\u001b[0m\u001b[0;36m512\u001b[0m\u001b[0;34m)\u001b[0m\u001b[0;34m:\u001b[0m\u001b[0;34m\u001b[0m\u001b[0;34m\u001b[0m\u001b[0m\n\u001b[1;32m      3\u001b[0m         \u001b[0;31m# Run the optimization to update W and b values.\u001b[0m\u001b[0;34m\u001b[0m\u001b[0;34m\u001b[0m\u001b[0;34m\u001b[0m\u001b[0m\n\u001b[0;32m----> 4\u001b[0;31m         \u001b[0mrun_optimization\u001b[0m\u001b[0;34m(\u001b[0m\u001b[0mX_tr\u001b[0m\u001b[0;34m,\u001b[0m \u001b[0mY_tr\u001b[0m\u001b[0;34m)\u001b[0m\u001b[0;34m\u001b[0m\u001b[0;34m\u001b[0m\u001b[0m\n\u001b[0m\u001b[1;32m      5\u001b[0m \u001b[0;34m\u001b[0m\u001b[0m\n\u001b[1;32m      6\u001b[0m         \u001b[0;32mif\u001b[0m \u001b[0me\u001b[0m \u001b[0;34m%\u001b[0m \u001b[0;36m50\u001b[0m \u001b[0;34m==\u001b[0m \u001b[0;36m0\u001b[0m\u001b[0;34m:\u001b[0m\u001b[0;34m\u001b[0m\u001b[0;34m\u001b[0m\u001b[0m\n",
            "\u001b[0;32m<ipython-input-1086-2f32e2324097>\u001b[0m in \u001b[0;36mrun_optimization\u001b[0;34m(x, y)\u001b[0m\n\u001b[1;32m      8\u001b[0m \u001b[0;34m\u001b[0m\u001b[0m\n\u001b[1;32m      9\u001b[0m         \u001b[0;31m# calculate the gradients of the loss with respect to the variables in the provided list\u001b[0m\u001b[0;34m\u001b[0m\u001b[0;34m\u001b[0m\u001b[0;34m\u001b[0m\u001b[0m\n\u001b[0;32m---> 10\u001b[0;31m         \u001b[0mgradients\u001b[0m \u001b[0;34m=\u001b[0m \u001b[0mg\u001b[0m\u001b[0;34m.\u001b[0m\u001b[0mgradient\u001b[0m\u001b[0;34m(\u001b[0m\u001b[0mloss\u001b[0m\u001b[0;34m,\u001b[0m \u001b[0;34m[\u001b[0m\u001b[0mWc1_1\u001b[0m\u001b[0;34m,\u001b[0m \u001b[0mBc1_1\u001b[0m\u001b[0;34m,\u001b[0m \u001b[0mWc1_2\u001b[0m\u001b[0;34m,\u001b[0m \u001b[0mBc1_2\u001b[0m\u001b[0;34m,\u001b[0m \u001b[0mWc1_3\u001b[0m\u001b[0;34m,\u001b[0m \u001b[0mBc1_3\u001b[0m\u001b[0;34m,\u001b[0m \u001b[0mWd1\u001b[0m\u001b[0;34m,\u001b[0m \u001b[0mBd1\u001b[0m\u001b[0;34m,\u001b[0m \u001b[0mWout\u001b[0m\u001b[0;34m,\u001b[0m \u001b[0mBout\u001b[0m\u001b[0;34m]\u001b[0m\u001b[0;34m)\u001b[0m\u001b[0;34m\u001b[0m\u001b[0;34m\u001b[0m\u001b[0m\n\u001b[0m\u001b[1;32m     11\u001b[0m     \u001b[0;31m# perform the update\u001b[0m\u001b[0;34m\u001b[0m\u001b[0;34m\u001b[0m\u001b[0;34m\u001b[0m\u001b[0m\n\u001b[1;32m     12\u001b[0m     \u001b[0moptimizer\u001b[0m\u001b[0;34m.\u001b[0m\u001b[0mapply_gradients\u001b[0m\u001b[0;34m(\u001b[0m\u001b[0mzip\u001b[0m\u001b[0;34m(\u001b[0m\u001b[0mgradients\u001b[0m\u001b[0;34m,\u001b[0m \u001b[0;34m[\u001b[0m\u001b[0mWc1_1\u001b[0m\u001b[0;34m,\u001b[0m \u001b[0mBc1_1\u001b[0m\u001b[0;34m,\u001b[0m \u001b[0mWc1_2\u001b[0m\u001b[0;34m,\u001b[0m \u001b[0mBc1_2\u001b[0m\u001b[0;34m,\u001b[0m \u001b[0mWc1_3\u001b[0m\u001b[0;34m,\u001b[0m \u001b[0mBc1_3\u001b[0m\u001b[0;34m,\u001b[0m \u001b[0mWd1\u001b[0m\u001b[0;34m,\u001b[0m \u001b[0mBd1\u001b[0m\u001b[0;34m,\u001b[0m \u001b[0mWout\u001b[0m\u001b[0;34m,\u001b[0m \u001b[0mBout\u001b[0m\u001b[0;34m]\u001b[0m\u001b[0;34m)\u001b[0m\u001b[0;34m)\u001b[0m\u001b[0;34m\u001b[0m\u001b[0;34m\u001b[0m\u001b[0m\n",
            "\u001b[0;32m/usr/local/lib/python3.6/dist-packages/tensorflow/python/eager/backprop.py\u001b[0m in \u001b[0;36mgradient\u001b[0;34m(self, target, sources, output_gradients, unconnected_gradients)\u001b[0m\n\u001b[1;32m   1071\u001b[0m         \u001b[0moutput_gradients\u001b[0m\u001b[0;34m=\u001b[0m\u001b[0moutput_gradients\u001b[0m\u001b[0;34m,\u001b[0m\u001b[0;34m\u001b[0m\u001b[0;34m\u001b[0m\u001b[0m\n\u001b[1;32m   1072\u001b[0m         \u001b[0msources_raw\u001b[0m\u001b[0;34m=\u001b[0m\u001b[0mflat_sources_raw\u001b[0m\u001b[0;34m,\u001b[0m\u001b[0;34m\u001b[0m\u001b[0;34m\u001b[0m\u001b[0m\n\u001b[0;32m-> 1073\u001b[0;31m         unconnected_gradients=unconnected_gradients)\n\u001b[0m\u001b[1;32m   1074\u001b[0m \u001b[0;34m\u001b[0m\u001b[0m\n\u001b[1;32m   1075\u001b[0m     \u001b[0;32mif\u001b[0m \u001b[0;32mnot\u001b[0m \u001b[0mself\u001b[0m\u001b[0;34m.\u001b[0m\u001b[0m_persistent\u001b[0m\u001b[0;34m:\u001b[0m\u001b[0;34m\u001b[0m\u001b[0;34m\u001b[0m\u001b[0m\n",
            "\u001b[0;32m/usr/local/lib/python3.6/dist-packages/tensorflow/python/eager/imperative_grad.py\u001b[0m in \u001b[0;36mimperative_grad\u001b[0;34m(tape, target, sources, output_gradients, sources_raw, unconnected_gradients)\u001b[0m\n\u001b[1;32m     75\u001b[0m       \u001b[0moutput_gradients\u001b[0m\u001b[0;34m,\u001b[0m\u001b[0;34m\u001b[0m\u001b[0;34m\u001b[0m\u001b[0m\n\u001b[1;32m     76\u001b[0m       \u001b[0msources_raw\u001b[0m\u001b[0;34m,\u001b[0m\u001b[0;34m\u001b[0m\u001b[0;34m\u001b[0m\u001b[0m\n\u001b[0;32m---> 77\u001b[0;31m       compat.as_str(unconnected_gradients.value))\n\u001b[0m",
            "\u001b[0;32m/usr/local/lib/python3.6/dist-packages/tensorflow/python/eager/backprop.py\u001b[0m in \u001b[0;36m_gradient_function\u001b[0;34m(op_name, attr_tuple, num_inputs, inputs, outputs, out_grads, skip_input_indices, forward_pass_name_scope)\u001b[0m\n\u001b[1;32m    160\u001b[0m       \u001b[0mgradient_name_scope\u001b[0m \u001b[0;34m+=\u001b[0m \u001b[0mforward_pass_name_scope\u001b[0m \u001b[0;34m+\u001b[0m \u001b[0;34m\"/\"\u001b[0m\u001b[0;34m\u001b[0m\u001b[0;34m\u001b[0m\u001b[0m\n\u001b[1;32m    161\u001b[0m     \u001b[0;32mwith\u001b[0m \u001b[0mops\u001b[0m\u001b[0;34m.\u001b[0m\u001b[0mname_scope\u001b[0m\u001b[0;34m(\u001b[0m\u001b[0mgradient_name_scope\u001b[0m\u001b[0;34m)\u001b[0m\u001b[0;34m:\u001b[0m\u001b[0;34m\u001b[0m\u001b[0;34m\u001b[0m\u001b[0m\n\u001b[0;32m--> 162\u001b[0;31m       \u001b[0;32mreturn\u001b[0m \u001b[0mgrad_fn\u001b[0m\u001b[0;34m(\u001b[0m\u001b[0mmock_op\u001b[0m\u001b[0;34m,\u001b[0m \u001b[0;34m*\u001b[0m\u001b[0mout_grads\u001b[0m\u001b[0;34m)\u001b[0m\u001b[0;34m\u001b[0m\u001b[0;34m\u001b[0m\u001b[0m\n\u001b[0m\u001b[1;32m    163\u001b[0m   \u001b[0;32melse\u001b[0m\u001b[0;34m:\u001b[0m\u001b[0;34m\u001b[0m\u001b[0;34m\u001b[0m\u001b[0m\n\u001b[1;32m    164\u001b[0m     \u001b[0;32mreturn\u001b[0m \u001b[0mgrad_fn\u001b[0m\u001b[0;34m(\u001b[0m\u001b[0mmock_op\u001b[0m\u001b[0;34m,\u001b[0m \u001b[0;34m*\u001b[0m\u001b[0mout_grads\u001b[0m\u001b[0;34m)\u001b[0m\u001b[0;34m\u001b[0m\u001b[0;34m\u001b[0m\u001b[0m\n",
            "\u001b[0;32m/usr/local/lib/python3.6/dist-packages/tensorflow/python/ops/nn_grad.py\u001b[0m in \u001b[0;36m_Conv2DGrad\u001b[0;34m(op, grad)\u001b[0m\n\u001b[1;32m    594\u001b[0m           \u001b[0mexplicit_paddings\u001b[0m\u001b[0;34m=\u001b[0m\u001b[0mexplicit_paddings\u001b[0m\u001b[0;34m,\u001b[0m\u001b[0;34m\u001b[0m\u001b[0;34m\u001b[0m\u001b[0m\n\u001b[1;32m    595\u001b[0m           \u001b[0muse_cudnn_on_gpu\u001b[0m\u001b[0;34m=\u001b[0m\u001b[0muse_cudnn_on_gpu\u001b[0m\u001b[0;34m,\u001b[0m\u001b[0;34m\u001b[0m\u001b[0;34m\u001b[0m\u001b[0m\n\u001b[0;32m--> 596\u001b[0;31m           data_format=data_format),\n\u001b[0m\u001b[1;32m    597\u001b[0m       gen_nn_ops.conv2d_backprop_filter(\n\u001b[1;32m    598\u001b[0m           \u001b[0mop\u001b[0m\u001b[0;34m.\u001b[0m\u001b[0minputs\u001b[0m\u001b[0;34m[\u001b[0m\u001b[0;36m0\u001b[0m\u001b[0;34m]\u001b[0m\u001b[0;34m,\u001b[0m\u001b[0;34m\u001b[0m\u001b[0;34m\u001b[0m\u001b[0m\n",
            "\u001b[0;32m/usr/local/lib/python3.6/dist-packages/tensorflow/python/ops/gen_nn_ops.py\u001b[0m in \u001b[0;36mconv2d_backprop_input\u001b[0;34m(input_sizes, filter, out_backprop, strides, padding, use_cudnn_on_gpu, explicit_paddings, data_format, dilations, name)\u001b[0m\n\u001b[1;32m   1253\u001b[0m       \u001b[0;32mreturn\u001b[0m \u001b[0m_result\u001b[0m\u001b[0;34m\u001b[0m\u001b[0;34m\u001b[0m\u001b[0m\n\u001b[1;32m   1254\u001b[0m     \u001b[0;32mexcept\u001b[0m \u001b[0m_core\u001b[0m\u001b[0;34m.\u001b[0m\u001b[0m_NotOkStatusException\u001b[0m \u001b[0;32mas\u001b[0m \u001b[0me\u001b[0m\u001b[0;34m:\u001b[0m\u001b[0;34m\u001b[0m\u001b[0;34m\u001b[0m\u001b[0m\n\u001b[0;32m-> 1255\u001b[0;31m       \u001b[0m_ops\u001b[0m\u001b[0;34m.\u001b[0m\u001b[0mraise_from_not_ok_status\u001b[0m\u001b[0;34m(\u001b[0m\u001b[0me\u001b[0m\u001b[0;34m,\u001b[0m \u001b[0mname\u001b[0m\u001b[0;34m)\u001b[0m\u001b[0;34m\u001b[0m\u001b[0;34m\u001b[0m\u001b[0m\n\u001b[0m\u001b[1;32m   1256\u001b[0m     \u001b[0;32mexcept\u001b[0m \u001b[0m_core\u001b[0m\u001b[0;34m.\u001b[0m\u001b[0m_FallbackException\u001b[0m\u001b[0;34m:\u001b[0m\u001b[0;34m\u001b[0m\u001b[0;34m\u001b[0m\u001b[0m\n\u001b[1;32m   1257\u001b[0m       \u001b[0;32mpass\u001b[0m\u001b[0;34m\u001b[0m\u001b[0;34m\u001b[0m\u001b[0m\n",
            "\u001b[0;32m/usr/local/lib/python3.6/dist-packages/tensorflow/python/framework/ops.py\u001b[0m in \u001b[0;36mraise_from_not_ok_status\u001b[0;34m(e, name)\u001b[0m\n\u001b[1;32m   6841\u001b[0m   \u001b[0mmessage\u001b[0m \u001b[0;34m=\u001b[0m \u001b[0me\u001b[0m\u001b[0;34m.\u001b[0m\u001b[0mmessage\u001b[0m \u001b[0;34m+\u001b[0m \u001b[0;34m(\u001b[0m\u001b[0;34m\" name: \"\u001b[0m \u001b[0;34m+\u001b[0m \u001b[0mname\u001b[0m \u001b[0;32mif\u001b[0m \u001b[0mname\u001b[0m \u001b[0;32mis\u001b[0m \u001b[0;32mnot\u001b[0m \u001b[0;32mNone\u001b[0m \u001b[0;32melse\u001b[0m \u001b[0;34m\"\"\u001b[0m\u001b[0;34m)\u001b[0m\u001b[0;34m\u001b[0m\u001b[0;34m\u001b[0m\u001b[0m\n\u001b[1;32m   6842\u001b[0m   \u001b[0;31m# pylint: disable=protected-access\u001b[0m\u001b[0;34m\u001b[0m\u001b[0;34m\u001b[0m\u001b[0;34m\u001b[0m\u001b[0m\n\u001b[0;32m-> 6843\u001b[0;31m   \u001b[0msix\u001b[0m\u001b[0;34m.\u001b[0m\u001b[0mraise_from\u001b[0m\u001b[0;34m(\u001b[0m\u001b[0mcore\u001b[0m\u001b[0;34m.\u001b[0m\u001b[0m_status_to_exception\u001b[0m\u001b[0;34m(\u001b[0m\u001b[0me\u001b[0m\u001b[0;34m.\u001b[0m\u001b[0mcode\u001b[0m\u001b[0;34m,\u001b[0m \u001b[0mmessage\u001b[0m\u001b[0;34m)\u001b[0m\u001b[0;34m,\u001b[0m \u001b[0;32mNone\u001b[0m\u001b[0;34m)\u001b[0m\u001b[0;34m\u001b[0m\u001b[0;34m\u001b[0m\u001b[0m\n\u001b[0m\u001b[1;32m   6844\u001b[0m   \u001b[0;31m# pylint: enable=protected-access\u001b[0m\u001b[0;34m\u001b[0m\u001b[0;34m\u001b[0m\u001b[0;34m\u001b[0m\u001b[0m\n\u001b[1;32m   6845\u001b[0m \u001b[0;34m\u001b[0m\u001b[0m\n",
            "\u001b[0;32m/usr/local/lib/python3.6/dist-packages/six.py\u001b[0m in \u001b[0;36mraise_from\u001b[0;34m(value, from_value)\u001b[0m\n",
            "\u001b[0;31mNotFoundError\u001b[0m: No algorithm worked! [Op:Conv2DBackpropInput]"
          ]
        }
      ]
    },
    {
      "cell_type": "code",
      "metadata": {
        "id": "4xXv_fEs02yc"
      },
      "source": [
        ""
      ],
      "execution_count": null,
      "outputs": []
    }
  ]
}