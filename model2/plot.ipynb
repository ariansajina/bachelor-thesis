{
 "cells": [
  {
   "cell_type": "code",
   "execution_count": 142,
   "metadata": {},
   "outputs": [],
   "source": [
    "import numpy as np\n",
    "import pandas as pd\n",
    "import matplotlib.pyplot as plt\n",
    "import seaborn as sns\n",
    "\n",
    "path = './test.csv'"
   ]
  },
  {
   "cell_type": "code",
   "execution_count": 154,
   "metadata": {},
   "outputs": [
    {
     "name": "stderr",
     "output_type": "stream",
     "text": [
      "/home/asajina/pyenvs/jupyter/lib/python2.7/site-packages/ipykernel_launcher.py:2: SettingWithCopyWarning: \n",
      "A value is trying to be set on a copy of a slice from a DataFrame\n",
      "\n",
      "See the caveats in the documentation: http://pandas.pydata.org/pandas-docs/stable/indexing.html#indexing-view-versus-copy\n",
      "  \n"
     ]
    }
   ],
   "source": [
    "pop = pd.read_csv(path)\n",
    "pop.parent_id[pop.parent_id < 0] = np.nan\n",
    "\n",
    "n_ages = pop.age.unique().size"
   ]
  },
  {
   "cell_type": "markdown",
   "metadata": {},
   "source": [
    "## track traits per age over time"
   ]
  },
  {
   "cell_type": "code",
   "execution_count": 150,
   "metadata": {
    "scrolled": true
   },
   "outputs": [
    {
     "name": "stdout",
     "output_type": "stream",
     "text": [
      "   timepoint  popsize     variance\n",
      "0   0.000000      999     0.000000\n",
      "1   0.217946      403     7.846339\n",
      "2   0.435893      369    37.052387\n",
      "3   0.653839      328    86.932620\n",
      "4   0.871786      288   208.952245\n",
      "5   1.089732      246   341.730865\n",
      "6   1.307678      196   549.687292\n",
      "7   1.525625      146   886.945956\n",
      "8   1.743571      109  2005.724434\n",
      "9   1.961518       60  2000.350000\n"
     ]
    },
    {
     "data": {
      "text/plain": [
       "<seaborn.axisgrid.FacetGrid at 0x7fbcbf079e50>"
      ]
     },
     "execution_count": 150,
     "metadata": {},
     "output_type": "execute_result"
    },
    {
     "data": {
      "image/png": "[encoded data removed]",
      "text/plain": [
       "<Figure size 360x360 with 1 Axes>"
      ]
     },
     "metadata": {
      "needs_background": "light"
     },
     "output_type": "display_data"
    }
   ],
   "source": [
    "def trait_timeline(n_timepoints=10):\n",
    "    # fill in for starting population\n",
    "    survival = pop[pop.birth_date == 0].groupby('age').mean().survival\n",
    "    reproduction = pop[pop.birth_date == 0].groupby('age').mean().reproduction\n",
    "    popsize = [np.sum(pop.birth_date == 0) / n_ages]\n",
    "    variance = [0]\n",
    "    \n",
    "    timepoints = np.linspace(0, max(pop.birth_date.max(), pop.death_date.max()), n_timepoints+1)\n",
    "    for i in range(1, n_timepoints):\n",
    "        snap_pop = pop[np.logical_and(pop.birth_date <= timepoints[i], pop.death_date > timepoints[i])]\n",
    "        survival = np.hstack((survival, snap_pop.groupby('age').mean().survival))\n",
    "        reproduction = np.hstack((reproduction, snap_pop.groupby('age').mean().reproduction))\n",
    "        popsize.append(np.sum(np.logical_and(pop.birth_date <= timepoints[i], pop.death_date > timepoints[i])) / n_ages)\n",
    "        variance.append(np.var(snap_pop[snap_pop.age == 0].id))\n",
    "        \n",
    "    dft = pd.DataFrame()\n",
    "    dft['age'] = np.tile(np.tile(pop.age.unique(), n_timepoints), 2)\n",
    "    dft['timepoint'] = np.tile(np.repeat(timepoints[:-1], n_ages), 2)\n",
    "    dft['trait'] = np.concatenate((survival, reproduction))\n",
    "    dft['type'] = np.repeat(['survival', 'reproduction'], n_ages * pop.age.unique().size)\n",
    "    \n",
    "    dfps = pd.DataFrame()\n",
    "    dfps['timepoint'] = timepoints[:-1]\n",
    "    dfps['popsize'] = np.array(popsize)\n",
    "    dfps['variance'] = np.array(variance)\n",
    "    return dft, dfps\n",
    "\n",
    "df_traits, df_popsize = trait_timeline()\n",
    "print df_popsize\n",
    "#sns.relplot(data=df_traits, x='timepoint', y='trait', hue='age', kind='line', col='type')\n",
    "sns.relplot(data=df_popsize, x='timepoint', y='variance')"
   ]
  },
  {
   "cell_type": "code",
   "execution_count": null,
   "metadata": {},
   "outputs": [],
   "source": []
  }
 ],
 "metadata": {
  "kernelspec": {
   "display_name": "Python 2",
   "language": "python",
   "name": "python2"
  },
  "language_info": {
   "codemirror_mode": {
    "name": "ipython",
    "version": 2
   },
   "file_extension": ".py",
   "mimetype": "text/x-python",
   "name": "python",
   "nbconvert_exporter": "python",
   "pygments_lexer": "ipython2",
   "version": "2.7.13"
  }
 },
 "nbformat": 4,
 "nbformat_minor": 2
}
